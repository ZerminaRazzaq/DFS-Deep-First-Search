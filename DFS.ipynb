{
  "nbformat": 4,
  "nbformat_minor": 0,
  "metadata": {
    "colab": {
      "name": "DFS.ipynb",
      "provenance": []
    },
    "kernelspec": {
      "name": "python3",
      "display_name": "Python 3"
    }
  },
  "cells": [
    {
      "cell_type": "code",
      "metadata": {
        "id": "raoRMUU4-iev"
      },
      "source": [
        "# Using a Python dictionary to act as an adjacency list\r\n",
        "graph = {\r\n",
        "    'A' : ['B','C'],\r\n",
        "    'B' : ['D', 'E'],\r\n",
        "    'C' : ['F'],\r\n",
        "    'D' : [],\r\n",
        "    'E' : ['F'],\r\n",
        "    'F' : []\r\n",
        "}\r\n",
        "visited = set() # Set to keep track of visited nodes.\r\n",
        "# this is function which takes 3 parameters\r\n",
        "def dfs(visited, graph, node):\r\n",
        "    if node not in visited:\r\n",
        "        print (node)\r\n",
        "        visited.add(node)\r\n",
        "        for neighbour in graph[node]:\r\n",
        "            dfs(visited, graph, neighbour)\r\n",
        "\r\n",
        "# Driver Code\r\n",
        "dfs(visited, graph, 'A')\r\n",
        "\r\n",
        "graph = {\r\n",
        "  '25' : ['45', '35'],\r\n",
        "  '45' : ['19', '10'],\r\n",
        "  '19' : ['2','6'],\r\n",
        "  '10' : ['9', '29'],\r\n",
        "  '35' : ['17', '23'],\r\n",
        "  '17' : ['24', '49'],\r\n",
        "  '23' : ['8', '190'],\r\n",
        "  '2' : [],\r\n",
        "  '6' : [],\r\n",
        "  '9' : [],\r\n",
        "  '29' : [],\r\n",
        "  '24' : [],\r\n",
        "  '49' : [],\r\n",
        "  '8' : [],\r\n",
        "  '190': []\r\n",
        "}\r\n",
        "\r\n",
        "visited = set()\r\n",
        "def dfs(visited, graph, node):\r\n",
        "    if node not in visited:\r\n",
        "        print (node)\r\n",
        "        visited.add(node)\r\n",
        "        for neighbour in graph[node]:\r\n",
        "            dfs(visited, graph, neighbour)\r\n",
        "\r\n",
        "# Driver Code\r\n",
        "dfs(visited, graph, '25')"
      ],
      "execution_count": null,
      "outputs": []
    }
  ]
}